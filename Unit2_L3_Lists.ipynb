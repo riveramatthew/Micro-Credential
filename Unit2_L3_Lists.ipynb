{
  "nbformat": 4,
  "nbformat_minor": 0,
  "metadata": {
    "colab": {
      "name": "Unit2_L3_Lists.ipynb",
      "provenance": [],
      "authorship_tag": "ABX9TyMdHe1eJmr9ELn0aiBt8gRP",
      "include_colab_link": true
    },
    "kernelspec": {
      "name": "python3",
      "display_name": "Python 3"
    }
  },
  "cells": [
    {
      "cell_type": "markdown",
      "metadata": {
        "id": "view-in-github",
        "colab_type": "text"
      },
      "source": [
        "<a href=\"https://colab.research.google.com/github/riveramatthew/Micro-Credential/blob/main/Unit2_L3_Lists.ipynb\" target=\"_parent\"><img src=\"https://colab.research.google.com/assets/colab-badge.svg\" alt=\"Open In Colab\"/></a>"
      ]
    },
    {
      "cell_type": "code",
      "metadata": {
        "id": "x0-WghYUhgup"
      },
      "source": [
        "# Create a list of 5 of your favorite tv shows.  \n",
        "my_list = ['Star Trek', 'Star Trek the Next Generation', 'Rick and Morty', 'BoJack Horseman', 'Mr Robot']"
      ],
      "execution_count": null,
      "outputs": []
    },
    {
      "cell_type": "code",
      "metadata": {
        "colab": {
          "base_uri": "https://localhost:8080/"
        },
        "id": "6AtMiw4ijzpw",
        "outputId": "e94700aa-94d8-4122-ced3-1e4d4ed5b353"
      },
      "source": [
        "# Print the list in its original order.\n",
        "my_list = ['Star Trek', 'Star Trek the Next Generation', 'Rick and Morty', 'BoJack Horseman', 'Mr Robot']\n",
        "print(my_list)"
      ],
      "execution_count": 2,
      "outputs": [
        {
          "output_type": "stream",
          "text": [
            "['Star Trek', 'Star Trek the Next Generation', 'Rick and Morty', 'BoJack Horseman', 'Mr Robot']\n"
          ],
          "name": "stdout"
        }
      ]
    },
    {
      "cell_type": "code",
      "metadata": {
        "colab": {
          "base_uri": "https://localhost:8080/"
        },
        "id": "pRcVLcrekD_8",
        "outputId": "3125e22f-10bd-450c-c0e7-dabf28019ed1"
      },
      "source": [
        "a = (\"b\", \"g\", \"a\", \"d\", \"f\", \"c\", \"h\", \"e\")\n",
        "x = sorted(a)\n",
        "print(x)"
      ],
      "execution_count": 9,
      "outputs": [
        {
          "output_type": "stream",
          "text": [
            "['a', 'b', 'c', 'd', 'e', 'f', 'g', 'h']\n"
          ],
          "name": "stdout"
        }
      ]
    },
    {
      "cell_type": "code",
      "metadata": {
        "colab": {
          "base_uri": "https://localhost:8080/"
        },
        "id": "EOyGd3fik-ze",
        "outputId": "6a905236-58fb-4b6c-a428-352361ab05bc"
      },
      "source": [
        "cars = ['Ford', 'BMW', 'Volvo']\n",
        "cars.sort()\n",
        "print(cars)"
      ],
      "execution_count": 12,
      "outputs": [
        {
          "output_type": "stream",
          "text": [
            "['BMW', 'Ford', 'Volvo']\n"
          ],
          "name": "stdout"
        }
      ]
    },
    {
      "cell_type": "markdown",
      "metadata": {
        "id": "2z78sb4Jq-Zc"
      },
      "source": [
        "3. Use the sorted() function to print the list in alphabetical order.  How is sorted() different from sort()?\n",
        "\n",
        " sort() bold text sorts the list and replaces the original list, whereas sorted(list) bold text returns a sorted copy of the list, without changing the original list."
      ]
    },
    {
      "cell_type": "code",
      "metadata": {
        "colab": {
          "base_uri": "https://localhost:8080/"
        },
        "id": "EY7784MTrwmz",
        "outputId": "072a018e-d7ce-4311-8ad6-a1692d53ca0f"
      },
      "source": [
        "# Print out your original list.\n",
        "my_list = ['Star Trek', 'Star Trek the Next Generation', 'Rick and Morty', 'BoJack Horseman', 'Mr Robot']\n",
        "print(my_list)\n"
      ],
      "execution_count": 13,
      "outputs": [
        {
          "output_type": "stream",
          "text": [
            "['Star Trek', 'Star Trek the Next Generation', 'Rick and Morty', 'BoJack Horseman', 'Mr Robot']\n"
          ],
          "name": "stdout"
        }
      ]
    },
    {
      "cell_type": "code",
      "metadata": {
        "colab": {
          "base_uri": "https://localhost:8080/"
        },
        "id": "q0of7AgVskMs",
        "outputId": "279e5f5f-b681-42ba-bfce-4f62bb81842a"
      },
      "source": [
        "# Used sorted() to print your list in reverse alphabetical order.\n",
        "my_list = ['BoJack Horseman','Mr Robot','Star Trek', 'Star Trek the Next Generation', 'Rick and Morty']\n",
        "my_list.sort(reverse=True)\n",
        "print(my_list)"
      ],
      "execution_count": 23,
      "outputs": [
        {
          "output_type": "stream",
          "text": [
            "['Star Trek the Next Generation', 'Star Trek', 'Rick and Morty', 'Mr Robot', 'BoJack Horseman']\n"
          ],
          "name": "stdout"
        }
      ]
    },
    {
      "cell_type": "code",
      "metadata": {
        "colab": {
          "base_uri": "https://localhost:8080/"
        },
        "id": "d4SiRPGNtj96",
        "outputId": "4fd61ea8-d71c-4598-b25b-ebce1a237e23"
      },
      "source": [
        "# Create a message indicating how many favorite TV shows you have – use the len() function.\n",
        "my_list = ['Star Trek', 'Star Trek the Next Generation', 'Rick and Morty', 'BoJack Horseman', 'Mr Robot']\n",
        "print('I have', len(my_list), 'favorite TV shows you have')"
      ],
      "execution_count": 22,
      "outputs": [
        {
          "output_type": "stream",
          "text": [
            "I have 5 favorite TV shows you have\n"
          ],
          "name": "stdout"
        }
      ]
    }
  ]
}