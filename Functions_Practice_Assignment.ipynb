{
  "nbformat": 4,
  "nbformat_minor": 0,
  "metadata": {
    "colab": {
      "name": "Functions_Practice_Assignment.ipynb",
      "provenance": [],
      "authorship_tag": "ABX9TyO9W04b5CuqNZ177StuSd27",
      "include_colab_link": true
    },
    "kernelspec": {
      "name": "python3",
      "display_name": "Python 3"
    }
  },
  "cells": [
    {
      "cell_type": "markdown",
      "metadata": {
        "id": "view-in-github",
        "colab_type": "text"
      },
      "source": [
        "<a href=\"https://colab.research.google.com/github/riveramatthew/Micro-Credential/blob/main/Functions_Practice_Assignment.ipynb\" target=\"_parent\"><img src=\"https://colab.research.google.com/assets/colab-badge.svg\" alt=\"Open In Colab\"/></a>"
      ]
    },
    {
      "cell_type": "code",
      "metadata": {
        "id": "-CverfmI0BUf"
      },
      "source": [
        "def Calculate():\n",
        "  def gross(hourly_rate, hours_worked):\n",
        "    if hours_worked > 0 and hours_worked <= 40:\n",
        "      return hourly_rate * hours_worked\n",
        "    elif hours_worked > 40:\n",
        "      return ((hourly_rate * hours_worked) + ((hours_worked - 40) * hourly_rate * 0.5))\n",
        "\n",
        "  def k401():\n",
        "    return gross_pay * .10\n",
        "\n",
        "  def health_insurance():\n",
        "    return gross_pay * .05\n",
        "\n",
        "  def federal_tax():\n",
        "    return (gross_pay - k401()) * .20\n",
        "\n",
        "  def state_tax():\n",
        "    return (gross_pay - k401()) * .07\n",
        "\n",
        "  def net_pay():\n",
        "    return gross_pay - (k401()+health_insurance()+federal_tax()+state_tax())\n",
        "  try:\n",
        "    # ask the hourly rate of the user \n",
        "    hourly_rate = float(input(\"What is your hourly rate? \"))\n",
        "    # ask the number of hours that the user has worked \n",
        "    hours_worked = float(input(\"How many hours did you worked? \"))\n",
        "\n",
        "    gross_pay = gross(hourly_rate, hours_worked)\n",
        "    if (hourly_rate > 0 and hours_worked > 0):\n",
        "      print('Gross Pay:', gross(hourly_rate, hours_worked))\n",
        "      print('401k:', \"{:.2f}\".format(k401()))\n",
        "      print('health insurance:', \"{:.2f}\".format(health_insurance()))\n",
        "      print('federal tax:', \"{:.2f}\".format(federal_tax()))\n",
        "      print('state tax:', \"{:.2f}\".format(state_tax()))\n",
        "      print('net pay:', \"{:.2f}\".format(net_pay()))\n",
        "    \n",
        "    else:\n",
        "       print(\"Please enter a positive number. Try again\")\n",
        "\n",
        "       Calculate()\n",
        "  except ValueError as ve:\n",
        "    print('You are supposed to enter positive number.')\n",
        "\n",
        "    Calculate()\n",
        "Calculate()"
      ],
      "execution_count": null,
      "outputs": []
    }
  ]
}