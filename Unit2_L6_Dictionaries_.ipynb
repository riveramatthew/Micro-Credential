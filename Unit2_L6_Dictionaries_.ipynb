{
  "nbformat": 4,
  "nbformat_minor": 0,
  "metadata": {
    "colab": {
      "name": "Unit2_L6_Dictionaries .ipynb",
      "provenance": [],
      "authorship_tag": "ABX9TyO0Vpz/sRmglUJgn+EJX3Pk",
      "include_colab_link": true
    },
    "kernelspec": {
      "name": "python3",
      "display_name": "Python 3"
    }
  },
  "cells": [
    {
      "cell_type": "markdown",
      "metadata": {
        "id": "view-in-github",
        "colab_type": "text"
      },
      "source": [
        "<a href=\"https://colab.research.google.com/github/riveramatthew/Micro-Credential/blob/Assignment-3/Unit2_L6_Dictionaries_.ipynb\" target=\"_parent\"><img src=\"https://colab.research.google.com/assets/colab-badge.svg\" alt=\"Open In Colab\"/></a>"
      ]
    },
    {
      "cell_type": "code",
      "metadata": {
        "id": "-3k9swLqTAsI"
      },
      "source": [
        "# Create a simple dictionary that stores 2 variables, for example: first and last name.\n",
        "names = {'first_name': 'Matthew', 'last_name': 'Rivera', 'DOB': '01/09/2021'}"
      ],
      "execution_count": null,
      "outputs": []
    },
    {
      "cell_type": "code",
      "metadata": {
        "colab": {
          "base_uri": "https://localhost:8080/"
        },
        "id": "d9Z5iLuvT1K8",
        "outputId": "361b9244-6e71-4bd0-cfd8-28818ed47171"
      },
      "source": [
        "# Print out those variables stored in your previous dictionary.\n",
        "print('Hello there, ' + names['first_name'] + ' ' + names['last_name'] + ' ' + names['DOB'])\n",
        "print(names['first_name'] + ' ' + names['last_name'])"
      ],
      "execution_count": null,
      "outputs": [
        {
          "output_type": "stream",
          "text": [
            "Hello there, Matthew Rivera01/09/2021\n",
            "Matthew Rivera\n"
          ],
          "name": "stdout"
        }
      ]
    },
    {
      "cell_type": "code",
      "metadata": {
        "colab": {
          "base_uri": "https://localhost:8080/"
        },
        "id": "gPeSPaQKhlpB",
        "outputId": "de0bd2ca-8d91-4200-e147-763ee872f649"
      },
      "source": [
        "# Add a message to those variables on printing: for example: “Hello, firstname lastname!”\n",
        "print('Hello there, ' + names['first_name'] + ' ' + names['last_name'])"
      ],
      "execution_count": null,
      "outputs": [
        {
          "output_type": "stream",
          "text": [
            "Hello there, Matthew Rivera\n"
          ],
          "name": "stdout"
        }
      ]
    },
    {
      "cell_type": "code",
      "metadata": {
        "colab": {
          "base_uri": "https://localhost:8080/"
        },
        "id": "cmW6PUtwjTgf",
        "outputId": "b4a7ccdc-33a0-475e-c08c-a51032147bdb"
      },
      "source": [
        "# Create a dictionary that holds 2 key: value pairs:\n",
        "# Look through your dictionary and print each pair,\n",
        "for k, v in names.items():\n",
        "  print(k + ' = ' + v)\n"
      ],
      "execution_count": null,
      "outputs": [
        {
          "output_type": "stream",
          "text": [
            "first_name = Matthew\n",
            "last_name = Rivera\n",
            "DOB = 01/09/2021\n"
          ],
          "name": "stdout"
        }
      ]
    },
    {
      "cell_type": "code",
      "metadata": {
        "colab": {
          "base_uri": "https://localhost:8080/"
        },
        "id": "tM2per0LkZzP",
        "outputId": "91fbc4d6-5fcf-4ee9-8c17-0fb8eaa01df5"
      },
      "source": [
        "# Create a nested dictionary containing three dictionaries – these dictionaries could be anything (favorite pets, travel locations, etc.)\n",
        "# Loop through the dictionaries and print a message for each.\n",
        "travel_location = {\n",
        "    'location 1': {'Place':'Puerto Rico'},\n",
        "    'location 2': {'Place':'Dominican Republic'},\n",
        "    'location 3': {'Place':'Bahamas'}\n",
        "    }\n",
        "\n",
        "for location, places in travel_location.items():\n",
        "    place = places['Place'].title()\n",
        "\n",
        "    print(\"Favorite travel \" + location.title() + \" is in \" + place + \".\")"
      ],
      "execution_count": 51,
      "outputs": [
        {
          "output_type": "stream",
          "text": [
            "Favorite travel Location 1 is in Puerto Rico.\n",
            "Favorite travel Location 2 is in Dominican Republic.\n",
            "Favorite travel Location 3 is in Bahamas.\n"
          ],
          "name": "stdout"
        }
      ]
    }
  ]
}