{
  "nbformat": 4,
  "nbformat_minor": 0,
  "metadata": {
    "colab": {
      "name": "Unit2_L6_Dictionaries .ipynb",
      "provenance": [],
      "authorship_tag": "ABX9TyNgXEZfAZ9TDn89+Xtc5YPz",
      "include_colab_link": true
    },
    "kernelspec": {
      "name": "python3",
      "display_name": "Python 3"
    }
  },
  "cells": [
    {
      "cell_type": "markdown",
      "metadata": {
        "id": "view-in-github",
        "colab_type": "text"
      },
      "source": [
        "<a href=\"https://colab.research.google.com/github/riveramatthew/Micro-Credential/blob/Assignment-3/Unit2_L6_Dictionaries_.ipynb\" target=\"_parent\"><img src=\"https://colab.research.google.com/assets/colab-badge.svg\" alt=\"Open In Colab\"/></a>"
      ]
    },
    {
      "cell_type": "code",
      "metadata": {
        "id": "-3k9swLqTAsI"
      },
      "source": [
        "# Create a simple dictionary that stores 2 variables, for example: first and last name.\n",
        "names = {'first_name': 'Matthew', 'last_name': 'Rivera', 'DOB': '01/09/2021'}"
      ],
      "execution_count": 13,
      "outputs": []
    },
    {
      "cell_type": "code",
      "metadata": {
        "colab": {
          "base_uri": "https://localhost:8080/"
        },
        "id": "d9Z5iLuvT1K8",
        "outputId": "361b9244-6e71-4bd0-cfd8-28818ed47171"
      },
      "source": [
        "# Print out those variables stored in your previous dictionary.\n",
        "print('Hello there, ' + names['first_name'] + ' ' + names['last_name'] + ' ' + names['DOB'])\n",
        "print(names['first_name'] + ' ' + names['last_name'])"
      ],
      "execution_count": 14,
      "outputs": [
        {
          "output_type": "stream",
          "text": [
            "Hello there, Matthew Rivera01/09/2021\n",
            "Matthew Rivera\n"
          ],
          "name": "stdout"
        }
      ]
    },
    {
      "cell_type": "code",
      "metadata": {
        "colab": {
          "base_uri": "https://localhost:8080/"
        },
        "id": "gPeSPaQKhlpB",
        "outputId": "de0bd2ca-8d91-4200-e147-763ee872f649"
      },
      "source": [
        "# Add a message to those variables on printing: for example: “Hello, firstname lastname!”\n",
        "print('Hello there, ' + names['first_name'] + ' ' + names['last_name'])"
      ],
      "execution_count": 11,
      "outputs": [
        {
          "output_type": "stream",
          "text": [
            "Hello there, Matthew Rivera\n"
          ],
          "name": "stdout"
        }
      ]
    },
    {
      "cell_type": "code",
      "metadata": {
        "colab": {
          "base_uri": "https://localhost:8080/"
        },
        "id": "cmW6PUtwjTgf",
        "outputId": "b4a7ccdc-33a0-475e-c08c-a51032147bdb"
      },
      "source": [
        "# Create a dictionary that holds 2 key: value pairs:\n",
        "# Look through your dictionary and print each pair,\n",
        "for k, v in names.items():\n",
        "  print(k + ' = ' + v)\n"
      ],
      "execution_count": 15,
      "outputs": [
        {
          "output_type": "stream",
          "text": [
            "first_name = Matthew\n",
            "last_name = Rivera\n",
            "DOB = 01/09/2021\n"
          ],
          "name": "stdout"
        }
      ]
    },
    {
      "cell_type": "code",
      "metadata": {
        "colab": {
          "base_uri": "https://localhost:8080/"
        },
        "id": "tM2per0LkZzP",
        "outputId": "21c29058-0916-4ca0-dc13-c345d043e86a"
      },
      "source": [
        "# Create a nested dictionary containing three dictionaries – these dictionaries could be anything (favorite pets, travel locations, etc.)\n",
        "# Loop through the dictionaries and print a message for each.\n",
        "travel_location = {\n",
        "                  'Puerto Rico': 'San Juan',\n",
        "                  'Dominican Republic': 'Punta Cana',\n",
        "                  'Bahamas': 'THE ROYAL AT ATLANTIS',\n",
        "                  'Florida': 'Miami'\n",
        "                  }\n",
        "favorite_location = ['Puerto Rico', 'Dominican Republic']\n",
        "for names, places in travel_location.items():\n",
        "  print('favorite locations', names.title() + ' and favorite places ' + places)"
      ],
      "execution_count": 18,
      "outputs": [
        {
          "output_type": "stream",
          "text": [
            "favorite locations Puerto Rico and favorite placesSan Juan\n",
            "favorite locations Dominican Republic and favorite placesPunta Cana\n",
            "favorite locations Bahamas and favorite placesTHE ROYAL AT ATLANTIS\n",
            "favorite locations Florida and favorite placesMiami\n"
          ],
          "name": "stdout"
        }
      ]
    }
  ]
}