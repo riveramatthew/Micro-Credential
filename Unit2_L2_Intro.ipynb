{
  "nbformat": 4,
  "nbformat_minor": 0,
  "metadata": {
    "colab": {
      "name": "Unit2_L2_Intro.ipynb",
      "provenance": [],
      "authorship_tag": "ABX9TyN5j9ZbNXBwSlliFqlK4rHb",
      "include_colab_link": true
    },
    "kernelspec": {
      "name": "python3",
      "display_name": "Python 3"
    }
  },
  "cells": [
    {
      "cell_type": "markdown",
      "metadata": {
        "id": "view-in-github",
        "colab_type": "text"
      },
      "source": [
        "<a href=\"https://colab.research.google.com/github/riveramatthew/Micro-Credential/blob/main/Unit2_L2_Intro.ipynb\" target=\"_parent\"><img src=\"https://colab.research.google.com/assets/colab-badge.svg\" alt=\"Open In Colab\"/></a>"
      ]
    },
    {
      "cell_type": "markdown",
      "metadata": {
        "id": "xPARsnLWnYPe"
      },
      "source": [
        "1. What is Python and why is it useful?\n",
        "\n",
        "  Python is easy to use, powerful, and versatile, making it a great choice for beginners and experts alike. Python's readability makes it a great first programming language — it allows you to think like a programmer and not waste time with confusing syntax.\n"
      ]
    },
    {
      "cell_type": "markdown",
      "metadata": {
        "id": "8OKcrRmJnr3O"
      },
      "source": [
        "2. Are the following variable names allowed in python?\n",
        "  \n",
        "  **a**.1_message\n",
        "  \n",
        "  **b**.Greeting_message\n",
        "  \n",
        "  **c**.Message_1\n",
        "  \n",
        "  **d**.First name\n",
        "  \n",
        "  **e**.Full_name\n",
        "\n",
        "  Yes the following variable names are allowed in python.\n"
      ]
    },
    {
      "cell_type": "code",
      "metadata": {
        "id": "oenGFlyLmHq6"
      },
      "source": [
        "# Create a variable that holds the string “hello there!”\n",
        "response = “hello there!”"
      ],
      "execution_count": null,
      "outputs": []
    },
    {
      "cell_type": "code",
      "metadata": {
        "colab": {
          "base_uri": "https://localhost:8080/"
        },
        "id": "6_OM4Py-ogf0",
        "outputId": "1de2e9a6-9ffa-4d20-9a38-904c51b2661e"
      },
      "source": [
        "# Create a variable for first name, last name and an email extension. Concatenating all three \n",
        "# together to form an email address.  For example: firstnamelastname@gmail.com\n",
        "fname = input(\"Input your First Name : \")\n",
        "lname = input(\"Input your Last Name : \")\n",
        "print(fname + lname + '@gmail.com')"
      ],
      "execution_count": 5,
      "outputs": [
        {
          "output_type": "stream",
          "text": [
            "Input your First Name : Matthew\n",
            "Input your Last Name : Rivera\n",
            "MatthewRivera@gmail.com\n"
          ],
          "name": "stdout"
        }
      ]
    },
    {
      "cell_type": "code",
      "metadata": {
        "id": "A8JesLE5pa6L"
      },
      "source": [
        "# Store someone you know name in a variable called name. Print their name in lower and \n",
        "# uppercase using a method.\n",
        "name = Louis Sapia\n",
        "print(name)\n"
      ],
      "execution_count": null,
      "outputs": []
    },
    {
      "cell_type": "code",
      "metadata": {
        "id": "GuxjUusDqkm0"
      },
      "source": [
        "# Using a variable, ask your friend if they want to hang out on the 15th of the month.  For \n",
        "# example, “Do you want to hang out on the 15th of this month?”  You should have to convert \n",
        "# the number to a string.\n",
        "Question = “Do you want to hang out on the 15th of this month?” \n",
        "print(Question)"
      ],
      "execution_count": null,
      "outputs": []
    }
  ]
}