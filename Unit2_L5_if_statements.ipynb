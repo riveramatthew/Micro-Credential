{
  "nbformat": 4,
  "nbformat_minor": 0,
  "metadata": {
    "colab": {
      "name": "Unit2_L5_if statements",
      "provenance": [],
      "authorship_tag": "ABX9TyOxkg5t0Gn50gREMotoihIz",
      "include_colab_link": true
    },
    "kernelspec": {
      "name": "python3",
      "display_name": "Python 3"
    }
  },
  "cells": [
    {
      "cell_type": "markdown",
      "metadata": {
        "id": "view-in-github",
        "colab_type": "text"
      },
      "source": [
        "<a href=\"https://colab.research.google.com/github/riveramatthew/Micro-Credential/blob/Assignment-3/Unit2_L5_if_statements.ipynb\" target=\"_parent\"><img src=\"https://colab.research.google.com/assets/colab-badge.svg\" alt=\"Open In Colab\"/></a>"
      ]
    },
    {
      "cell_type": "code",
      "metadata": {
        "colab": {
          "base_uri": "https://localhost:8080/"
        },
        "id": "XfNvmBACeTHn",
        "outputId": "f5ce6389-9c14-49c2-e554-ee50331a2eef"
      },
      "source": [
        "# Make a list of 5 or more usernames, including an admin account.  Imagine you are writing \n",
        "# code that will welcome people to your application on login. Loop through the list and print \n",
        "# your greeting.\n",
        "usernames = {'Matthew': 'Admin', 'Mark': 'Admin', 'Luke': 'Admin', 'John': 'Admin', 'Steve': 'Regular'}\n",
        "\n",
        "for keys, values in usernames.items():\n",
        "    if values == 'Admin':\n",
        "        print(\"Hello Admin, would you like to see a status report?\")\n",
        "    else:\n",
        "        print(\"Hello \" + username + \", thank you for logging in again!\")"
      ],
      "execution_count": 11,
      "outputs": [
        {
          "output_type": "stream",
          "text": [
            "Hello Admin, would you like to see a status report?\n",
            "Hello Admin, would you like to see a status report?\n",
            "Hello Admin, would you like to see a status report?\n",
            "Hello Admin, would you like to see a status report?\n",
            "Hello Admin, thank you for logging in again!\n"
          ],
          "name": "stdout"
        }
      ]
    },
    {
      "cell_type": "code",
      "metadata": {
        "colab": {
          "base_uri": "https://localhost:8080/"
        },
        "id": "vnJ4GN1mgjoe",
        "outputId": "cbe2ec67-df94-4704-c4e8-2ec3216eb54a"
      },
      "source": [
        "# Store numbers 1-10 in a list\n",
        "numbers = [1, 2, 3, 4, 5, 6, 7, 8, 9, 10]\n",
        "\n",
        "for number in numbers:\n",
        "    if number == 1:\n",
        "        print(\"1st\")\n",
        "    elif number == 2:\n",
        "        print(\"2nd\")\n",
        "    elif number == 3:\n",
        "        print(\"3rd\")\n",
        "    else:\n",
        "        print(str(number) + \"th\")"
      ],
      "execution_count": 5,
      "outputs": [
        {
          "output_type": "stream",
          "text": [
            "1st\n",
            "2nd\n",
            "3rd\n",
            "4th\n",
            "5th\n",
            "6th\n",
            "7th\n",
            "8th\n",
            "9th\n",
            "10th\n"
          ],
          "name": "stdout"
        }
      ]
    }
  ]
}